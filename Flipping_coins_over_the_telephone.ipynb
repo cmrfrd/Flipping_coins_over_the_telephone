{
 "cells": [
  {
   "cell_type": "markdown",
   "metadata": {},
   "source": [
    "## Flipping coins over the telephone\n",
    "\n",
    "By: Alex Comerford (alexanderjcomerford@gmail.com)\n",
    "\n",
    "In this notebook we will be demonstrating a minimal example of the coin fliping protocol demonstrated and explained here https://www.cs.cmu.edu/~mblum/research/pdf/coin\n",
    "\n",
    "Using default capabilities in python we will assume both the identities of alice and bob to show that both parties will agree on the result of a coin toss. In this notebook we will demonstrate this commitment scheme and how each party would deny the other if either of them violate the designated protocol."
   ]
  },
  {
   "cell_type": "markdown",
   "metadata": {},
   "source": [
    "## Imports"
   ]
  },
  {
   "cell_type": "code",
   "execution_count": 137,
   "metadata": {},
   "outputs": [],
   "source": [
    "import string\n",
    "import random as r"
   ]
  },
  {
   "cell_type": "markdown",
   "metadata": {},
   "source": [
    "## Utility functions\n",
    "\n",
    "These lambda functions are to provide short hand names for common functions we will use throughout this notebook"
   ]
  },
  {
   "cell_type": "code",
   "execution_count": 12,
   "metadata": {},
   "outputs": [],
   "source": [
    "flip_coin = lambda:r.randint(0,1)\n",
    "generate_secret = lambda: ''.join(r.choice(string.ascii_lowercase) for i in range(5))"
   ]
  },
  {
   "cell_type": "markdown",
   "metadata": {},
   "source": [
    "## Classes\n",
    "\n",
    "Here we will define some high level classes with methods to make the steps in this commitment scheme protocol more obvious"
   ]
  },
  {
   "cell_type": "code",
   "execution_count": 180,
   "metadata": {},
   "outputs": [],
   "source": [
    "class Person:\n",
    "    def __init__(self, name=\"\", log_output=False):\n",
    "        self.secret = generate_secret()\n",
    "        self.log_output = log_output\n",
    "        self.name = name\n",
    "        if log_output:print(\"Person %s's secret is %s\"%(self.name, self.secret))\n",
    "            \n",
    "        self.is_dishonest = flip_coin()\n",
    "        \n",
    "        self.knowledge = {}\n",
    "        \n",
    "    def change_secret(self):\n",
    "        self.secret = generate_secret()\n",
    "        if self.log_output:print(\"Person %s secret changed to %s\"%(self.name, self.secret))\n",
    "        \n",
    "    def set_information(self,key,value):\n",
    "        if self.log_output:print(\"Person %s setting information %s as %s\"%(self.name, str(key), str(value)))        \n",
    "        self.knowledge[key] = value\n",
    "\n",
    "    def get_information(self,key):\n",
    "        if self.log_output:print(\"Person %s getting information %s -> %s\"%(self.name, str(key), self.knowledge[key]))\n",
    "        return self.knowledge[key]"
   ]
  },
  {
   "cell_type": "markdown",
   "metadata": {},
   "source": [
    "## Protocol\n",
    "\n",
    "Alice is the coin flipper\n",
    "Bob is the guesser\n",
    "\n",
    "1. Alice and Bob generate (random) keys\n",
    "2. Bob sends Alice his key\n",
    "3. Alice secretly flips a coin and sends her commitment to the flip to Bob\n",
    "4. Bob announces his guess\n",
    "5. Alice reveals her key and her flip\n",
    "6. Bob verifies his guess"
   ]
  },
  {
   "cell_type": "markdown",
   "metadata": {},
   "source": [
    "#### 1. Alice and Bob generate (random) keys\n",
    "\n",
    "First we will generate alice and bob as objects which add secret attributes on initialization. Each object is unaware of the other"
   ]
  },
  {
   "cell_type": "code",
   "execution_count": 193,
   "metadata": {},
   "outputs": [
    {
     "name": "stdout",
     "output_type": "stream",
     "text": [
      "Person bob's secret is jxztk\n",
      "Person alice's secret is ofkqv\n"
     ]
    }
   ],
   "source": [
    "bob = Person(name=\"bob\", log_output=True)\n",
    "alice = Person(name=\"alice\", log_output=True)"
   ]
  },
  {
   "cell_type": "markdown",
   "metadata": {},
   "source": [
    "#### 2. Bob sends Alice his key"
   ]
  },
  {
   "cell_type": "code",
   "execution_count": 194,
   "metadata": {},
   "outputs": [
    {
     "name": "stdout",
     "output_type": "stream",
     "text": [
      "Person alice setting information bob.secret as jxztk\n"
     ]
    }
   ],
   "source": [
    "alice.set_information(\"bob.secret\",bob.secret)"
   ]
  },
  {
   "cell_type": "markdown",
   "metadata": {},
   "source": [
    "#### 3. Alice secretely flips a coin and sends her commitment to bob"
   ]
  },
  {
   "cell_type": "code",
   "execution_count": 195,
   "metadata": {},
   "outputs": [
    {
     "name": "stdout",
     "output_type": "stream",
     "text": [
      "Person alice setting information flip as 0\n",
      "Person alice getting information flip -> 0\n",
      "Person alice getting information bob.secret -> jxztk\n",
      "Person alice setting information commitment as -687192656363196433\n",
      "Person alice getting information commitment -> -687192656363196433\n",
      "Person bob setting information alice.commitment as -687192656363196433\n"
     ]
    }
   ],
   "source": [
    "## Alice generates commitment\n",
    "alice.set_information(\"flip\",flip_coin())\n",
    "alice.set_information(\"commitment\", hash(str([alice.get_information(\"flip\"),\n",
    "                                              alice.secret,\n",
    "                                              alice.get_information(\"bob.secret\")])))\n",
    "\n",
    "## Alice sends commitment\n",
    "bob.set_information(\"alice.commitment\", alice.get_information(\"commitment\"))"
   ]
  },
  {
   "cell_type": "markdown",
   "metadata": {},
   "source": [
    "#### 4. Bob announces his guess"
   ]
  },
  {
   "cell_type": "code",
   "execution_count": 221,
   "metadata": {},
   "outputs": [
    {
     "name": "stdout",
     "output_type": "stream",
     "text": [
      "Person bob setting information guess as 0\n",
      "Person bob getting information guess -> 0\n",
      "Person alice setting information bob.guess as 0\n"
     ]
    }
   ],
   "source": [
    "## Bob thinks of this guess\n",
    "bob.set_information(\"guess\", flip_coin())\n",
    "\n",
    "## Bob announces that guess to alice\n",
    "alice.set_information(\"bob.guess\", bob.get_information(\"guess\"))"
   ]
  },
  {
   "cell_type": "markdown",
   "metadata": {},
   "source": [
    "#### 5. Alice reveals her key and her flip"
   ]
  },
  {
   "cell_type": "code",
   "execution_count": 222,
   "metadata": {},
   "outputs": [
    {
     "name": "stdout",
     "output_type": "stream",
     "text": [
      "Person alice getting information flip -> 0\n",
      "Person bob setting information alice.flip as 0\n",
      "Person bob setting information alice.secret as ofkqv\n"
     ]
    }
   ],
   "source": [
    "if alice.is_dishonest:\n",
    "    ## Alice changes her flip\n",
    "    alice.set_information(\"dishonest\", alice.is_dishonest)\n",
    "    alice.set_information(\"flip\", int(not alice.get_information(\"flip\")))\n",
    "    \n",
    "    ## Alice announces manipulated flip\n",
    "    bob.set_information(\"alice.flip\",alice.get_information(\"flip\"))\n",
    "    bob.set_information(\"alice.secret\",alice.secret)\n",
    "else:\n",
    "    ## Alice announces unmanipulated flip\n",
    "    bob.set_information(\"alice.flip\",alice.get_information(\"flip\"))\n",
    "    bob.set_information(\"alice.secret\",alice.secret)    "
   ]
  },
  {
   "cell_type": "markdown",
   "metadata": {},
   "source": [
    "#### 6. Bob verifies his guess is correct and if alice is a liar"
   ]
  },
  {
   "cell_type": "code",
   "execution_count": 223,
   "metadata": {},
   "outputs": [
    {
     "name": "stdout",
     "output_type": "stream",
     "text": [
      "Person bob getting information alice.commitment -> -687192656363196433\n",
      "Person bob getting information guess -> 0\n",
      "Person bob getting information alice.secret -> ofkqv\n",
      "Bob has won! yay! :)\n",
      "Person bob getting information alice.commitment -> -687192656363196433\n",
      "Person bob getting information alice.flip -> 0\n",
      "Person bob getting information alice.secret -> ofkqv\n",
      "Alice told the truth!\n"
     ]
    }
   ],
   "source": [
    "if bob.get_information(\"alice.commitment\") ==\\\n",
    "   hash(str([bob.get_information(\"guess\"), \n",
    "             bob.get_information(\"alice.secret\"), \n",
    "             bob.secret])):\n",
    "    print(\"Bob has won! yay! :)\")\n",
    "else:\n",
    "    print(\"Bob has lost :'(\")\n",
    "    \n",
    "if bob.get_information(\"alice.commitment\") ==\\\n",
    "   hash(str([bob.get_information(\"alice.flip\"), \n",
    "             bob.get_information(\"alice.secret\"), \n",
    "             bob.secret])):\n",
    "    print(\"Alice told the truth!\")\n",
    "else:\n",
    "    print(\"Alice lied in her reveal!\")"
   ]
  },
  {
   "cell_type": "code",
   "execution_count": null,
   "metadata": {},
   "outputs": [],
   "source": []
  }
 ],
 "metadata": {
  "kernelspec": {
   "display_name": "Python 3",
   "language": "python",
   "name": "python3"
  },
  "language_info": {
   "codemirror_mode": {
    "name": "ipython",
    "version": 3
   },
   "file_extension": ".py",
   "mimetype": "text/x-python",
   "name": "python",
   "nbconvert_exporter": "python",
   "pygments_lexer": "ipython3",
   "version": "3.6.7"
  }
 },
 "nbformat": 4,
 "nbformat_minor": 2
}
