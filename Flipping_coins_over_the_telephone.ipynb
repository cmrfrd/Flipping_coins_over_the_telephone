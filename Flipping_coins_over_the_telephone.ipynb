{
 "cells": [
  {
   "cell_type": "markdown",
   "metadata": {},
   "source": [
    "## Flipping coins over the telephone\n",
    "\n",
    "By: Alex Comerford (alexanderjcomerford@gmail.com)\n",
    "\n",
    "In this notebook we will be demonstrating a minimal example of the coin fliping protocol demonstrated and explained here https://www.cs.cmu.edu/~mblum/research/pdf/coin\n",
    "\n",
    "Using default capabilities in python we will assume both the identities of alice and bob to show that both parties will agree on the result of a coin toss. In this notebook we will demonstrate this commitment scheme and how each party would deny the other if either of them violate the designated protocol."
   ]
  },
  {
   "cell_type": "markdown",
   "metadata": {},
   "source": [
    "## Imports"
   ]
  },
  {
   "cell_type": "code",
   "execution_count": 137,
   "metadata": {},
   "outputs": [],
   "source": [
    "import string\n",
    "import random as r"
   ]
  },
  {
   "cell_type": "markdown",
   "metadata": {},
   "source": [
    "## Utility functions\n",
    "\n",
    "These lambda functions are to provide short hand names for common functions we will use throughout this notebook"
   ]
  },
  {
   "cell_type": "code",
   "execution_count": 12,
   "metadata": {},
   "outputs": [],
   "source": [
    "flip_coin = lambda:r.randint(0,1)\n",
    "generate_secret = lambda: ''.join(r.choice(string.ascii_lowercase) for i in range(5))"
   ]
  },
  {
   "cell_type": "markdown",
   "metadata": {},
   "source": [
    "## Classes\n",
    "\n",
    "Here we will define some high level classes with methods to make the steps in this commitment scheme protocol more obvious"
   ]
  },
  {
   "cell_type": "code",
   "execution_count": null,
   "metadata": {},
   "outputs": [],
   "source": [
    "class Person:\n",
    "    def __init__(self, output):\n",
    "        self.secret = generate_secret()"
   ]
  },
  {
   "cell_type": "code",
   "execution_count": 130,
   "metadata": {},
   "outputs": [],
   "source": [
    "def run_simulation():\n",
    "    print(\"-------\")\n",
    "    print(\"+ Alice-Bob choose random strings\")\n",
    "    alice_secret = generate_secret()\n",
    "    bob_secret = generate_secret()\n",
    "\n",
    "    print(\"+ Bob send secret %s to ----> Alice\"%bob_secret)\n",
    "\n",
    "    alice_flip = flip_coin()\n",
    "    print(\"+ Alice flips coin %d\"%alice_flip)\n",
    "    tamper = alice_be_truthful()\n",
    "    if tamper:\n",
    "        alice_flip = not alice_flip\n",
    "        print(\"- Alice decides to tamper to become %d\"%alice_flip)\n",
    "    else:\n",
    "        alice_flip = alice_flip\n",
    "        print(\"+ Alice decides not to tamper to become %d\"%alice_flip)\n",
    "        \n",
    "    alice_hash = hash(str([alice_flip, alice_secret, bob_secret]))\n",
    "    print(\"+ Alice sends bob hash %s\"%alice_hash)\n",
    "    \n",
    "    bob_guess = flip_coin()\n",
    "    print(\"+ Bob announces guess %d\"%bob_guess)\n",
    "    \n",
    "    truthful = alice_be_truthful()\n",
    "    modify_secret = alice_be_truthful()\n",
    "    if truthful:\n",
    "\n",
    "        alice_send_to_bob = alice_flip\n",
    "        \n",
    "        if modify_secret:\n",
    "            alice_secret = generate_secret()\n",
    "            print(\"- Alice modifies secret to %s\"%alice_secret)\n",
    "            print(\"- Alice recieves guess and sends truthful flip and untruthful secret -> (%d, %s)\"%(alice_send_to_bob, alice_secret))\n",
    "        else:\n",
    "            print(\"+ Alice does not modify secret %s\"%alice_secret)\n",
    "            print(\"+ Alice recieves guess and sends truthful flip and secret -> (%d, %s)\"%(alice_send_to_bob, alice_secret))\n",
    "\n",
    "    else:\n",
    "        alice_send_to_bob = not alice_flip\n",
    "        if modify_secret:\n",
    "            alice_secret = generate_secret()\n",
    "            print(\"- Alice modifies secret to %s\"%alice_secret)\n",
    "            print(\"- Alice recieves guess and sends non truthful flip and non truthful secret -> (%d, %s)\"%(alice_send_to_bob, alice_secret))        \n",
    "        else:\n",
    "            print(\"+ Alice does not modify secret %s\"%alice_secret)\n",
    "            print(\"- Alice recieves guess and sends non truthful flip and truthful secret -> (%d, %s)\"%(alice_send_to_bob, alice_secret))        \n",
    "        \n",
    "        \n",
    "    print(\"----- Bob verifies if he has won -----\")\n",
    "    bob_guess_verify_hash = hash(str([bob_guess, alice_secret, bob_secret]))\n",
    "    alice_response_verify_hash = hash(str([alice_send_to_bob, alice_secret, bob_secret]))\n",
    "    \n",
    "    if alice_hash == bob_guess_verify_hash:\n",
    "        print(\"Bob has definately won! yay! :)\")\n",
    "    else:\n",
    "        print(\"Bob has possibly lost?\")\n",
    "        \n",
    "    if alice_hash == alice_response_verify_hash:\n",
    "        print(\"Alice told the truth!\")\n",
    "    else:\n",
    "        print(\"Alice is a LIAR >:(\")"
   ]
  },
  {
   "cell_type": "code",
   "execution_count": 135,
   "metadata": {},
   "outputs": [
    {
     "name": "stdout",
     "output_type": "stream",
     "text": [
      "-------\n",
      "+ Alice-Bob choose random strings\n",
      "+ Bob send secret idqso to ----> Alice\n",
      "+ Alice flips coin 1\n",
      "+ Alice decides not to tamper to become 1\n",
      "+ Alice sends bob hash -9038618295808728200\n",
      "+ Bob announces guess 0\n",
      "- Alice modifies secret to zrain\n",
      "- Alice recieves guess and sends truthful flip and untruthful secret -> (1, zrain)\n",
      "----- Bob verifies if he has won -----\n",
      "Bob has possibly lost?\n",
      "Alice is a LIAR >:(\n"
     ]
    }
   ],
   "source": [
    "run_simulation()"
   ]
  },
  {
   "cell_type": "code",
   "execution_count": null,
   "metadata": {},
   "outputs": [],
   "source": []
  },
  {
   "cell_type": "code",
   "execution_count": null,
   "metadata": {},
   "outputs": [],
   "source": []
  },
  {
   "cell_type": "code",
   "execution_count": null,
   "metadata": {},
   "outputs": [],
   "source": []
  },
  {
   "cell_type": "code",
   "execution_count": null,
   "metadata": {},
   "outputs": [],
   "source": []
  }
 ],
 "metadata": {
  "kernelspec": {
   "display_name": "Python 3",
   "language": "python",
   "name": "python3"
  },
  "language_info": {
   "codemirror_mode": {
    "name": "ipython",
    "version": 3
   },
   "file_extension": ".py",
   "mimetype": "text/x-python",
   "name": "python",
   "nbconvert_exporter": "python",
   "pygments_lexer": "ipython3",
   "version": "3.6.7"
  }
 },
 "nbformat": 4,
 "nbformat_minor": 2
}
